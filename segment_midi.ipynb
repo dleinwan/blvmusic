{
 "cells": [
  {
   "cell_type": "code",
   "execution_count": 1,
   "metadata": {},
   "outputs": [
    {
     "name": "stdout",
     "output_type": "stream",
     "text": [
      "Folder 'mary' already exists.\n",
      "[([1], [5])]\n",
      "[['D4'], ['C4'], ['B-3'], ['C4'], ['D4'], ['D4'], ['D4'], ['C4'], ['C4'], ['C4'], ['D4'], ['F4'], ['F4'], ['D4'], ['C4'], ['B-3'], ['C4'], ['D4'], ['D4'], ['D4'], ['D4'], ['C4'], ['C4'], ['D4'], ['C4'], ['B-3']]\n",
      "i: 1\n",
      "[['D4', 'C4'], ['B-3', 'C4'], ['D4', 'D4'], ['D4', 'C4'], ['C4', 'C4'], ['D4', 'F4'], ['F4', 'D4'], ['C4', 'B-3'], ['C4', 'D4'], ['D4', 'D4'], ['D4', 'C4'], ['C4', 'D4'], ['C4', 'B-3']]\n",
      "i: 2\n",
      "j: 1\n",
      "Similarity for 2 notes at a time:0.0\n",
      "[['D4', 'C4', 'B-3'], ['C4', 'D4', 'D4'], ['D4', 'C4', 'C4'], ['C4', 'D4', 'F4'], ['F4', 'D4', 'C4'], ['B-3', 'C4', 'D4'], ['D4', 'D4', 'D4'], ['C4', 'C4', 'D4'], ['C4', 'B-3']]\n",
      "i: 3\n",
      "j: 1\n",
      "j: 2\n",
      "Similarity for 3 notes at a time:0.0\n",
      "[['D4', 'C4', 'B-3', 'C4'], ['D4', 'D4', 'D4', 'C4'], ['C4', 'C4', 'D4', 'F4'], ['F4', 'D4', 'C4', 'B-3'], ['C4', 'D4', 'D4', 'D4'], ['D4', 'C4', 'C4', 'D4'], ['C4', 'B-3']]\n",
      "i: 4\n",
      "j: 1\n",
      "j: 2\n",
      "j: 3\n",
      "Similarity for 4 notes at a time:0.25\n",
      "[['D4', 'C4', 'B-3', 'C4', 'D4'], ['D4', 'D4', 'C4', 'C4', 'C4'], ['D4', 'F4', 'F4', 'D4', 'C4'], ['B-3', 'C4', 'D4', 'D4', 'D4'], ['D4', 'C4', 'C4', 'D4', 'C4'], ['B-3']]\n",
      "i: 5\n",
      "j: 1\n",
      "j: 2\n",
      "j: 3\n",
      "j: 4\n",
      "Similarity for 5 notes at a time:0.4\n",
      "[['D4', 'C4', 'B-3', 'C4', 'D4', 'D4'], ['D4', 'C4', 'C4', 'C4', 'D4', 'F4'], ['F4', 'D4', 'C4', 'B-3', 'C4', 'D4'], ['D4', 'D4', 'D4', 'C4', 'C4', 'D4'], ['C4', 'B-3']]\n",
      "i: 6\n",
      "j: 1\n",
      "For 6 note segments, there are only 5 segments.\n",
      "j: 2\n",
      "For 6 note segments, there are only 5 segments.\n",
      "j: 3\n",
      "For 6 note segments, there are only 5 segments.\n",
      "j: 4\n",
      "For 6 note segments, there are only 5 segments.\n",
      "j: 5\n",
      "For 6 note segments, there are only 5 segments.\n",
      "Similarity for 6 notes at a time:0\n",
      "Similarity dictionary: \n",
      "{'2notes': 0.0, '3notes': 0.0, '4notes': 0.0625, '5notes': 0.08, '6notes': 0.0}\n"
     ]
    },
    {
     "name": "stderr",
     "output_type": "stream",
     "text": [
      "/Users/dani/opt/anaconda3/envs/cv_flute/lib/python3.11/site-packages/music21/stream/base.py:3694: Music21DeprecationWarning: .flat is deprecated.  Call .flatten() instead\n",
      "  return self.iter().getElementsByClass(classFilterList)\n"
     ]
    }
   ],
   "source": [
    "from music21 import *\n",
    "import os\n",
    "from Segmentor import *\n",
    "\n",
    "# music21 configuration stuff (pretty sure this only needs to be ran once in your environment)\n",
    "musescore_path = \"/Applications/MuseScore 4.app/Contents/MacOS/mscore\"\n",
    "environment.set(\"musescoreDirectPNGPath\", musescore_path)\n",
    "environment.set(\"musicxmlPath\", musescore_path)\n",
    "\n",
    "# instantiate class Segmentor with midi file path\n",
    "#   ~ this will \n",
    "#       - automatically parse the midi file \n",
    "#       - create a folder with the same name as midi file if it does not already exist\n",
    "mary_midi = Segmentor(midi_file_path=\"mary.mid\")\n",
    "\n",
    "# Segmentor functions\n",
    "# segment the midi file into 2 note segments and save to self.segments\n",
    "# segment(segment_lenth=2)\n",
    "# segment the midi file into 2 note segments and output midi files to folder with same name as input midi file name\n",
    "# segment_and_save(segment_length=)\n",
    "#   ~ segment() will call the following line to save midi files\n",
    "#   ~ self.save_segments_as_midi()\n",
    "\n",
    "# mary_midi.segment(segment_length=4)\n",
    "similar_groups = mary_midi.find_similar_note_groups()\n",
    "print(similar_groups)\n",
    "mary_midi.analyze_for_best_sectioning(6)\n",
    "\n",
    "\n",
    "# Create MIDI streams for each section and save them as .mid files\n",
    "# for i, section in enumerate(sections):\n",
    "#     midi_stream = create_midi_from_notes(section)\n",
    "#     output_file = f\"section_{i+1}.mid\"\n",
    "#     save_midi(midi_stream, output_folder_name, output_file)\n",
    "#     print(f\"Section {i+1} saved as {os.path.join(output_folder_path, output_file)}\")\n",
    "#     midi_stream.show()"
   ]
  },
  {
   "cell_type": "code",
   "execution_count": 2,
   "metadata": {},
   "outputs": [
    {
     "name": "stdout",
     "output_type": "stream",
     "text": [
      "Intel MKL WARNING: Support of Intel(R) Streaming SIMD Extensions 4.2 (Intel(R) SSE4.2) enabled only processors has been deprecated. Intel oneAPI Math Kernel Library 2025.0 will require Intel(R) Advanced Vector Extensions (Intel(R) AVX) instructions.\n",
      "Intel MKL WARNING: Support of Intel(R) Streaming SIMD Extensions 4.2 (Intel(R) SSE4.2) enabled only processors has been deprecated. Intel oneAPI Math Kernel Library 2025.0 will require Intel(R) Advanced Vector Extensions (Intel(R) AVX) instructions.\n"
     ]
    }
   ],
   "source": [
    "# midi_file_path = \"mary.mid\"\n",
    "# midi_folder_name, midi_folder_path = create_folder(midi_file_path)\n",
    "# # output_folder_name + \"_wav\"\n",
    "# output_folder_name, output_folder_path = create_folder(\"mary_wav\")\n",
    "\n",
    "# # Convert MIDI files to WAV files\n",
    "# folder_path = \"./mary\"\n",
    "# convert_folder_of_midi_to_wav(folder_path)"
   ]
  }
 ],
 "metadata": {
  "kernelspec": {
   "display_name": "cv_flute",
   "language": "python",
   "name": "python3"
  },
  "language_info": {
   "codemirror_mode": {
    "name": "ipython",
    "version": 3
   },
   "file_extension": ".py",
   "mimetype": "text/x-python",
   "name": "python",
   "nbconvert_exporter": "python",
   "pygments_lexer": "ipython3",
   "version": "3.11.5"
  }
 },
 "nbformat": 4,
 "nbformat_minor": 2
}
