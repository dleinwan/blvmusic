{
 "cells": [
  {
   "cell_type": "code",
   "execution_count": 1,
   "metadata": {},
   "outputs": [
    {
     "name": "stdout",
     "output_type": "stream",
     "text": [
      "Intel MKL WARNING: Support of Intel(R) Streaming SIMD Extensions 4.2 (Intel(R) SSE4.2) enabled only processors has been deprecated. Intel oneAPI Math Kernel Library 2025.0 will require Intel(R) Advanced Vector Extensions (Intel(R) AVX) instructions.\n",
      "Intel MKL WARNING: Support of Intel(R) Streaming SIMD Extensions 4.2 (Intel(R) SSE4.2) enabled only processors has been deprecated. Intel oneAPI Math Kernel Library 2025.0 will require Intel(R) Advanced Vector Extensions (Intel(R) AVX) instructions.\n"
     ]
    }
   ],
   "source": [
    "from matplotlib import pyplot as plt\n",
    "from Codebook import *\n"
   ]
  },
  {
   "cell_type": "code",
   "execution_count": 2,
   "metadata": {},
   "outputs": [
    {
     "name": "stdout",
     "output_type": "stream",
     "text": [
      "B3\n",
      "C4\n",
      "Csharp4\n",
      "D4\n",
      "Dsharp4\n",
      "E4\n",
      "F4\n",
      "Fsharp4\n",
      "G4\n",
      "Gsharp4\n",
      "A4\n",
      "Asharp4\n",
      "B4\n",
      "C5\n",
      "Csharp5\n",
      "D5\n",
      "Dsharp5\n",
      "E5\n",
      "F5\n",
      "Fsharp5\n",
      "G5\n",
      "Gsharp5\n",
      "A5\n",
      "Asharp5\n",
      "B5\n",
      "C6\n"
     ]
    }
   ],
   "source": [
    "codebook = Codebook('codes.csv')\n",
    "codebook.print_all_notes()\n",
    "\n",
    "# note = codebook.find_note_by_id(1)\n",
    "# note = codebook.find_note_by_name('Asharp4')\n",
    "# B3 = codebook.find_note_by_name('B3')\n",
    "# print(B3.name)\n",
    "# print(B3.fingering)"
   ]
  }
 ],
 "metadata": {
  "kernelspec": {
   "display_name": "cv_flute",
   "language": "python",
   "name": "python3"
  },
  "language_info": {
   "codemirror_mode": {
    "name": "ipython",
    "version": 3
   },
   "file_extension": ".py",
   "mimetype": "text/x-python",
   "name": "python",
   "nbconvert_exporter": "python",
   "pygments_lexer": "ipython3",
   "version": "3.11.5"
  }
 },
 "nbformat": 4,
 "nbformat_minor": 2
}
